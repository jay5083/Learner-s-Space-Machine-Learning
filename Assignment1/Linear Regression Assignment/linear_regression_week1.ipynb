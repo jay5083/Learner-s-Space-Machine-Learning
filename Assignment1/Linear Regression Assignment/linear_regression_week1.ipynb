{
  "cells": [
    {
      "cell_type": "code",
      "execution_count": 37,
      "metadata": {
        "id": "-zTLHrFCT6KY"
      },
      "outputs": [],
      "source": [
        "import numpy as np\n",
        "import pandas as pd\n",
        "import matplotlib.pyplot as plt\n",
        "from sklearn.preprocessing import LabelEncoder\n",
        "\n",
        "# Aim is to predict the marks of students of the test data"
      ]
    },
    {
      "cell_type": "code",
      "execution_count": 38,
      "metadata": {
        "id": "p0KHq8ZgTpU4"
      },
      "outputs": [],
      "source": [
        "# Load training data\n",
        "data = pd.read_excel(\"D:\\\\IIT\\\\Extras\\\\Learner's Space\\\\ML\\\\Assignment1\\\\Training data.xlsx\")\n",
        "\n",
        "# Separate features and target\n",
        "x_train = data.iloc[:, :-1]  # Features\n",
        "y_train = data.iloc[:, -1]  # Target (marks)\n",
        "\n",
        "# Convert to numpy arrays\n",
        "x_train = np.array(x_train)\n",
        "y_train = np.array(y_train).reshape(-1, 1)\n",
        "\n",
        "# Function to plot features against target\n",
        "def plot_features_vs_target(data):\n",
        "    features = data.columns[:-1]\n",
        "    target = data.columns[-1]\n",
        "    for feature in features:\n",
        "        plt.figure()\n",
        "        plt.scatter(data[feature], data[target])\n",
        "        plt.xlabel(feature)\n",
        "        plt.ylabel(target)\n",
        "        plt.title(f'{feature} vs {target}')\n",
        "        plt.show()\n",
        "\n",
        "# Uncomment to visualize feature-target relationships\n",
        "# plot_features_vs_target(data)\n",
        "\n",
        "# Function for feature encoding and preprocessing\n",
        "def feature_changing(x_data):\n",
        "    if isinstance(x_data, np.ndarray):\n",
        "        x_data = pd.DataFrame(x_data, columns=['internet', 'sex', 'traveltime', 'studytime', 'freetime', 'absences', 'age', 'iq'])\n",
        "    \n",
        "    le_internet = LabelEncoder()\n",
        "    le_sex = LabelEncoder()\n",
        "\n",
        "    x_data['internet'] = le_internet.fit_transform(x_data['internet'])\n",
        "    x_data['sex'] = le_sex.fit_transform(x_data['sex'])\n",
        "    \n",
        "    return x_data.to_numpy()\n",
        "\n",
        "# Apply feature changes\n",
        "x_train = feature_changing(x_train)"
      ]
    },
    {
      "cell_type": "code",
      "execution_count": 39,
      "metadata": {
        "id": "tYshvtYlVour"
      },
      "outputs": [],
      "source": [
        "# Function for feature scaling\n",
        "def z_score(x_data):\n",
        "    x_mean = np.mean(x_data, axis=0)\n",
        "    x_std = np.std(x_data, axis=0)\n",
        "    x_data = (x_data - x_mean) / x_std\n",
        "    \n",
        "    return x_data, x_std, x_mean\n",
        "\n",
        "# Apply Z-score normalization\n",
        "x_train = x_train.astype(np.float64)\n",
        "x_train, x_std, x_mean = z_score(x_train)\n"
      ]
    },
    {
      "cell_type": "code",
      "execution_count": 40,
      "metadata": {
        "id": "O5dOwbNbWJWa"
      },
      "outputs": [],
      "source": [
        "# Define cost function (mean squared error)\n",
        "def cost(x_train, y_train, w, b):\n",
        "    m = len(y_train)\n",
        "    y_pred = np.dot(x_train, w) + b\n",
        "    loss = (1 / (2 * m)) * np.sum((y_pred - y_train) ** 2)\n",
        "    return loss\n"
      ]
    },
    {
      "cell_type": "code",
      "execution_count": 41,
      "metadata": {
        "id": "hW8p2cTNU74W"
      },
      "outputs": [],
      "source": [
        "# Define gradient descent function\n",
        "def gradient_descent(x_train, y_train, w, b, learning_rate=0.01, num_iterations=1000):\n",
        "    m = len(y_train)\n",
        "    for i in range(num_iterations):\n",
        "        y_pred = np.dot(x_train, w) + b\n",
        "        dw = (1 / m) * np.dot(x_train.T, (y_pred - y_train))\n",
        "        db = (1 / m) * np.sum(y_pred - y_train)\n",
        "        w -= learning_rate * dw\n",
        "        b -= learning_rate * db\n",
        "        if i % 100 == 0:\n",
        "            current_cost = cost(x_train, y_train, w, b)\n",
        "            print(f\"Iteration {i}, Cost: {current_cost}\")\n",
        "    return w, b\n"
      ]
    },
    {
      "cell_type": "code",
      "execution_count": 42,
      "metadata": {
        "id": "Kl-fioJ5WkYn"
      },
      "outputs": [
        {
          "name": "stdout",
          "output_type": "stream",
          "text": [
            "Iteration 0, Cost: 2444.0423300034918\n",
            "Iteration 100, Cost: 327.30545449819175\n",
            "Iteration 200, Cost: 43.837315566020074\n",
            "Iteration 300, Cost: 5.871893770939658\n",
            "Iteration 400, Cost: 0.7866032490520842\n",
            "Iteration 500, Cost: 0.1053876738704565\n",
            "Iteration 600, Cost: 0.014125032523688439\n",
            "Iteration 700, Cost: 0.0018974593221238183\n",
            "Iteration 800, Cost: 0.000259036067689191\n",
            "Iteration 900, Cost: 3.94771402058059e-05\n",
            "Iteration 1, Cost: 1.0144580425993177e-05\n",
            "Iteration 0, Cost: 1.005212890284038e-05\n",
            "Iteration 100, Cost: 6.1082372454842815e-06\n",
            "Iteration 200, Cost: 5.579573698363449e-06\n",
            "Iteration 300, Cost: 5.5087001473968045e-06\n",
            "Iteration 400, Cost: 5.4991974881886884e-06\n",
            "Iteration 500, Cost: 5.497923194644101e-06\n",
            "Iteration 600, Cost: 5.497752285136142e-06\n",
            "Iteration 700, Cost: 5.497729358171435e-06\n",
            "Iteration 800, Cost: 5.497726281902835e-06\n",
            "Iteration 900, Cost: 5.4977258690304504e-06\n",
            "Iteration 2, Cost: 5.4977258137746695e-06\n",
            "Final Cost: 5.4977258137746695e-06\n",
            "Congratulations, your accuracy is 100.0%\n"
          ]
        }
      ],
      "source": [
        "# Initialize weights and bias\n",
        "np.random.seed(2147483647)\n",
        "w = np.random.randn(x_train.shape[1], 1)\n",
        "b = np.random.randn(1)\n",
        "\n",
        "# Train the model\n",
        "old_cost = float('inf')\n",
        "current_cost = cost(x_train, y_train, w, b)\n",
        "iteration = 0\n",
        "\n",
        "while abs(old_cost - current_cost) > 0.00001:\n",
        "    old_cost = current_cost\n",
        "    w, b = gradient_descent(x_train, y_train, w, b)\n",
        "    current_cost = cost(x_train, y_train, w, b)\n",
        "    iteration += 1\n",
        "    print(f\"Iteration {iteration}, Cost: {current_cost}\")\n",
        "\n",
        "print(f\"Final Cost: {current_cost}\")\n",
        "\n",
        "# Load test data\n",
        "x_predict = pd.read_excel(\"D:\\\\IIT\\\\Extras\\\\Learner's Space\\\\ML\\\\Assignment1\\\\Test data.xlsx\").iloc[:, :-1].to_numpy()\n",
        "ans = pd.read_excel(\"D:\\\\IIT\\\\Extras\\\\Learner's Space\\\\ML\\\\Assignment1\\\\Test data.xlsx\").iloc[:, -1].to_numpy()\n",
        "\n",
        "# Apply same preprocessing steps\n",
        "x_predict = feature_changing(x_predict)\n",
        "x_predict = (x_predict - x_mean) / x_std\n",
        "\n",
        "# Predict marks\n",
        "y_predict = np.dot(x_predict, w) + b\n",
        "\n",
        "# Evaluate accuracy\n",
        "accuracy = np.sum(np.abs(y_predict.flatten() - ans) < 0.5) / len(ans) * 100\n",
        "accuracy = round(accuracy, 2)\n",
        "ok = 'Congratulations' if accuracy > 95 else 'Optimization required'\n",
        "print(f\"{ok}, your accuracy is {accuracy}%\")\n"
      ]
    }
  ],
  "metadata": {
    "colab": {
      "provenance": []
    },
    "kernelspec": {
      "display_name": "Python 3",
      "name": "python3"
    },
    "language_info": {
      "codemirror_mode": {
        "name": "ipython",
        "version": 3
      },
      "file_extension": ".py",
      "mimetype": "text/x-python",
      "name": "python",
      "nbconvert_exporter": "python",
      "pygments_lexer": "ipython3",
      "version": "3.11.3"
    }
  },
  "nbformat": 4,
  "nbformat_minor": 0
}
